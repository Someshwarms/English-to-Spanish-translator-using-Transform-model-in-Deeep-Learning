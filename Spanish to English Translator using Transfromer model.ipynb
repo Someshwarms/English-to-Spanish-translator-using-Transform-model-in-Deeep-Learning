{
  "nbformat": 4,
  "nbformat_minor": 0,
  "metadata": {
    "colab": {
      "name": "Untitled8.ipynb",
      "provenance": [],
      "collapsed_sections": [],
      "authorship_tag": "ABX9TyPjZ6ncOufDJsk0rOJ2AYbL",
      "include_colab_link": true
    },
    "kernelspec": {
      "name": "python3",
      "display_name": "Python 3"
    },
    "language_info": {
      "name": "python"
    },
    "accelerator": "GPU"
  },
  "cells": [
    {
      "cell_type": "markdown",
      "metadata": {
        "id": "view-in-github",
        "colab_type": "text"
      },
      "source": [
        "<a href=\"https://colab.research.google.com/github/Someshwarms/English-to-Spanish-translator-using-Transform-model-in-Deeep-Learning/blob/main/Spanish%20to%20English%20Translator%20using%20Transfromer%20model.ipynb\" target=\"_parent\"><img src=\"https://colab.research.google.com/assets/colab-badge.svg\" alt=\"Open In Colab\"/></a>"
      ]
    },
    {
      "cell_type": "markdown",
      "metadata": {
        "id": "KIFe0DtCXNf8"
      },
      "source": [
        "**Need to download this dataset called spa-eng.txt from this link: http://storage.googleapis.com/download.tensorflow.org/data/spa-eng.zip  you can download the zip version of the dataset .Need to import all the required the packages.**"
      ]
    },
    {
      "cell_type": "code",
      "metadata": {
        "id": "M1hQ0PmeXKGo"
      },
      "source": [
        "import tensorflow as tf\n",
        "import matplotlib.pyplot as plt\n",
        "import numpy as np\n",
        "import re\n",
        "import string\n",
        "import random\n",
        "import pathlib"
      ],
      "execution_count": 64,
      "outputs": []
    },
    {
      "cell_type": "markdown",
      "metadata": {
        "id": "zaGYqUC-XpgA"
      },
      "source": [
        "**Loading and downloading the dataset and preprocessing it.**\n",
        "\n",
        "\n"
      ]
    },
    {
      "cell_type": "code",
      "metadata": {
        "id": "--fwHUPYXTwg"
      },
      "source": [
        "text_file=tf.keras.utils.get_file(fname=\"spa-eng.zip\",origin=\"http://storage.googleapis.com/download.tensorflow.org/data/spa-eng.zip\",extract=True,)\n",
        "text_file=pathlib.Path(text_file).parent / \"spa-eng\" / \"spa.txt\"\n",
        "with open(text_file) as f:\n",
        "    lines=f.read().split(\"\\n\")[:-1]\n",
        "text_pairs=[]\n",
        "for line in lines:\n",
        "    eng,spa=line.split(\"\\t\")\n",
        "    spa= \"[start] \" + spa + \" [end]\"\n",
        "    text_pairs.append((eng, spa))"
      ],
      "execution_count": 8,
      "outputs": []
    },
    {
      "cell_type": "markdown",
      "metadata": {
        "id": "5dgZhcdLcP0R"
      },
      "source": [
        "**Dataset of 2 different languages in the form of pairs**"
      ]
    },
    {
      "cell_type": "code",
      "metadata": {
        "colab": {
          "base_uri": "https://localhost:8080/"
        },
        "id": "sm5FgGRMZxBA",
        "outputId": "980a9354-6eeb-4210-ff39-3df810a9acd0"
      },
      "source": [
        "for  i in range(5):\n",
        "  print(random.choice(text_pairs))"
      ],
      "execution_count": 9,
      "outputs": [
        {
          "output_type": "stream",
          "name": "stdout",
          "text": [
            "('Several children are playing on the beach.', '[start] Varios niños están jugando en la playa. [end]')\n",
            "(\"I'm sorry for the late response.\", '[start] Disculpe por haber demorado en contestar. [end]')\n",
            "('It is our obligation to help.', '[start] Es nuestra obligación ayudar. [end]')\n",
            "('The supplies are beginning to give out.', '[start] Las provisiones se están empezando a acabar. [end]')\n",
            "(\"Mary died in the priest's arms.\", '[start] María murió en los brazos del sacerdote. [end]')\n"
          ]
        }
      ]
    },
    {
      "cell_type": "markdown",
      "metadata": {
        "id": "8Nb0FXjMcjeN"
      },
      "source": [
        "**Dividing the dataset into training,validation,and testing**"
      ]
    },
    {
      "cell_type": "code",
      "metadata": {
        "colab": {
          "base_uri": "https://localhost:8080/"
        },
        "id": "tkbDdOHAaHTn",
        "outputId": "f26b617c-2693-4dfe-a607-7d670de33924"
      },
      "source": [
        "random.shuffle(text_pairs)\n",
        "num_val_samples=int(0.15 * len(text_pairs))\n",
        "num_train_samples=len(text_pairs) - 2 * num_val_samples\n",
        "train_pairs=text_pairs[:num_train_samples]\n",
        "val_pairs=text_pairs[num_train_samples : num_train_samples + num_val_samples]\n",
        "test_pairs=text_pairs[num_train_samples + num_val_samples :]\n",
        "\n",
        "print({len(text_pairs)},\"total pairs\")\n",
        "print({len(train_pairs)},\"training pairs\")\n",
        "print({len(val_pairs)},\"validation pairs\")\n",
        "print({len(test_pairs)},\"test pairs\")"
      ],
      "execution_count": 81,
      "outputs": [
        {
          "output_type": "stream",
          "name": "stdout",
          "text": [
            "{118964} total pairs\n",
            "{83276} training pairs\n",
            "{17844} validation pairs\n",
            "{17844} test pairs\n"
          ]
        }
      ]
    },
    {
      "cell_type": "markdown",
      "metadata": {
        "id": "sMLNMqXPcwKT"
      },
      "source": [
        "**Vectorizing this text data into vectors with the built-in package in tensorflow called as TextVectorization**"
      ]
    },
    {
      "cell_type": "code",
      "metadata": {
        "id": "pgrc1WH2cumA"
      },
      "source": [
        "strip_chars=string.punctuation + \"¿\"\n",
        "strip_chars=strip_chars.replace(\"[\", \"\")\n",
        "strip_chars=strip_chars.replace(\"]\", \"\")\n",
        "\n",
        "vocab_size=15000\n",
        "sequence_length=20\n",
        "batch_size=64\n",
        "\n",
        "\n",
        "def custom_standardization(input_string):\n",
        "    lowercase=tf.strings.lower(input_string)\n",
        "    return tf.strings.regex_replace(lowercase, \"[%s]\" % re.escape(strip_chars), \"\")\n",
        "\n",
        "\n",
        "eng_vectorization=tf.keras.layers.TextVectorization(\n",
        "    max_tokens=vocab_size, output_mode=\"int\", output_sequence_length=sequence_length,\n",
        ")\n",
        "spa_vectorization=tf.keras.layers.TextVectorization(\n",
        "    max_tokens=vocab_size,\n",
        "    output_mode=\"int\",\n",
        "    output_sequence_length=sequence_length + 1,\n",
        "    standardize=custom_standardization,\n",
        ")\n",
        "train_eng_texts=[pair[0] for pair in train_pairs]\n",
        "train_spa_texts=[pair[1] for pair in train_pairs]\n",
        "eng_vectorization.adapt(train_eng_texts)\n",
        "spa_vectorization.adapt(train_spa_texts)"
      ],
      "execution_count": 82,
      "outputs": []
    },
    {
      "cell_type": "code",
      "metadata": {
        "id": "coK-uU78cD5x"
      },
      "source": [
        "def format_dataset(eng, spa):\n",
        "    eng=eng_vectorization(eng)\n",
        "    spa=spa_vectorization(spa)\n",
        "    return ({\"encoder_inputs\": eng, \"decoder_inputs\": spa[:, :-1],}, spa[:, 1:])\n",
        "\n",
        "\n",
        "def make_dataset(pairs):\n",
        "    eng_texts,spa_texts=zip(*pairs)\n",
        "    eng_texts=list(eng_texts)\n",
        "    spa_texts=list(spa_texts)\n",
        "    dataset=tf.data.Dataset.from_tensor_slices((eng_texts, spa_texts))\n",
        "    dataset=dataset.batch(batch_size)\n",
        "    dataset=dataset.map(format_dataset)\n",
        "    return dataset.shuffle(2048).prefetch(16).cache()\n",
        "\n",
        "\n",
        "train_ds=make_dataset(train_pairs)\n",
        "val_ds=make_dataset(val_pairs)"
      ],
      "execution_count": 83,
      "outputs": []
    },
    {
      "cell_type": "code",
      "metadata": {
        "colab": {
          "base_uri": "https://localhost:8080/"
        },
        "id": "u7SP0xSFhr6U",
        "outputId": "d9674003-796a-4b49-c893-c9809853d8e1"
      },
      "source": [
        "#checking the shapes of the sequence\n",
        "for input,target in train_ds.take(1):\n",
        "  print(f'Shape of Encoder Inputs: {input[\"encoder_inputs\"].shape}')\n",
        "  print(f'Shape of Decoder Inputs: {input[\"decoder_inputs\"].shape}')\n",
        "  print(f\"Target Shape: {target.shape}\")"
      ],
      "execution_count": 84,
      "outputs": [
        {
          "output_type": "stream",
          "name": "stdout",
          "text": [
            "Shape of Encoder Inputs: (64, 20)\n",
            "Shape of Decoder Inputs: (64, 20)\n",
            "Target Shape: (64, 20)\n"
          ]
        }
      ]
    },
    {
      "cell_type": "markdown",
      "metadata": {
        "id": "A9WSMwS9jyTR"
      },
      "source": [
        "**Building the Transformer Model**\n",
        "\n"
      ]
    },
    {
      "cell_type": "code",
      "metadata": {
        "id": "RkwdVwkEjwa_"
      },
      "source": [
        "class TransformerEncoder(tf.keras.layers.Layer):\n",
        "  def __init__(self,embed_dim,dense_dim,num_heads,**kwargs):\n",
        "    super(TransformerEncoder,self).__init__(**kwargs)\n",
        "    self.embed_dim=embed_dim\n",
        "    self.dense_dim=dense_dim\n",
        "    self.num_heads=num_heads\n",
        "    self.attention=tf.keras.layers.MultiHeadAttention(num_heads=num_heads,key_dim=embed_dim)\n",
        "    self.dense_proj=tf.keras.Sequential([\n",
        "          tf.keras.layers.Dense(dense_dim,activation=\"relu\"),\n",
        "          tf.keras.layers.Dense(embed_dim),\n",
        "    ])\n",
        "    self.layernorm_1=tf.keras.layers.LayerNormalization()\n",
        "    self.layernorm_2=tf.keras.layers.LayerNormalization()\n",
        "    self.supports_masking=True\n",
        "  \n",
        "  def call(self,inputs,mask=None):\n",
        "    if mask is not None:\n",
        "      padding_mask=tf.cast(mask[:,tf.newaxis,tf.newaxis,:],dtype=\"int32\")\n",
        "      attention_output=self.attention(query=inputs,value=inputs,key=inputs,attention_mask=padding_mask)\n",
        "      proj_input=self.layernorm_1(inputs+attention_output)\n",
        "      proj_output=self.dense_proj(proj_input)\n",
        "      return self.layernorm_2(proj_input+proj_output)\n",
        "\n",
        "class PositionalEmbedding(tf.keras.layers.Layer):\n",
        "  def __init__(self,sequence_length,vocab_size,embed_dim,**kwargs):\n",
        "    super(PositionalEmbedding,self).__init__(**kwargs)\n",
        "    self.token_embeddings=tf.keras.layers.Embedding(input_dim=vocab_size,output_dim=embed_dim)\n",
        "    self.position_embeddings=tf.keras.layers.Embedding(input_dim=sequence_length,output_dim=embed_dim)\n",
        "    self.sequence_length=sequence_length\n",
        "    self.vocab_size=vocab_size\n",
        "    self.embed_dim=embed_dim\n",
        "  \n",
        "  def call(self, inputs):\n",
        "    length = tf.shape(inputs)[-1]\n",
        "    positions = tf.range(start=0, limit=length, delta=1)\n",
        "    embedded_tokens = self.token_embeddings(inputs)\n",
        "    embedded_positions = self.position_embeddings(positions)\n",
        "    return embedded_tokens + embedded_positions\n",
        "  \n",
        "  def compute_mask(self, inputs, mask=None):\n",
        "    return tf.math.not_equal(inputs, 0)\n",
        "\n",
        "class TransformerDecoder(tf.keras.layers.Layer):\n",
        "  def __init__(self,embed_dim,latent_dim,num_heads,**kwargs):\n",
        "    super(TransformerDecoder,self).__init__(**kwargs)\n",
        "    self.embed_dim=embed_dim\n",
        "    self.latent_dim=latent_dim\n",
        "    self.num_heads=num_heads\n",
        "    self.attention_1=tf.keras.layers.MultiHeadAttention(num_heads=num_heads,key_dim=embed_dim)\n",
        "    self.attention_2=tf.keras.layers.MultiHeadAttention(num_heads=num_heads,key_dim=embed_dim)\n",
        "    self.dense_proj=tf.keras.Sequential([\n",
        "          tf.keras.layers.Dense(latent_dim,activation=\"relu\"),\n",
        "          tf.keras.layers.Dense(embed_dim),\n",
        "    ])\n",
        "    self.layernorm_1=tf.keras.layers.LayerNormalization()\n",
        "    self.layernorm_2=tf.keras.layers.LayerNormalization()\n",
        "    self.layernorm_3=tf.keras.layers.LayerNormalization()\n",
        "    self.supports_masking = True\n",
        "  \n",
        "  def call(self,inputs,encoder_outputs,mask=None):\n",
        "    causal_mask = self.get_causal_attention_mask(inputs)\n",
        "    if mask is not None:\n",
        "      padding_mask = tf.cast(mask[:, tf.newaxis, :], dtype=\"int32\")\n",
        "      padding_mask = tf.minimum(padding_mask, causal_mask)\n",
        "\n",
        "    attention_output_1=self.attention_1(query=inputs,value=inputs,key=inputs,attention_mask=causal_mask)\n",
        "    out_1=self.layernorm_1(inputs+attention_output_1)\n",
        "    attention_output_2=self.attention_2(query=out_1,value=encoder_outputs,key=encoder_outputs,attention_mask=padding_mask)\n",
        "    out_2=self.layernorm_2(out_1+attention_output_2)\n",
        "    proj_output=self.dense_proj(out_2)\n",
        "    return self.layernorm_3(out_2+proj_output)\n",
        "\n",
        "  def get_causal_attention_mask(self, inputs):\n",
        "    input_shape=tf.shape(inputs)\n",
        "    batch_size,sequence_length=input_shape[0], input_shape[1]\n",
        "    i=tf.range(sequence_length)[:, tf.newaxis]\n",
        "    j=tf.range(sequence_length)\n",
        "    mask=tf.cast(i >= j, dtype=\"int32\")\n",
        "    mask=tf.reshape(mask, (1, input_shape[1], input_shape[1]))\n",
        "    mult=tf.concat([tf.expand_dims(batch_size, -1), tf.constant([1, 1], dtype=tf.int32)],axis=0,)\n",
        "    return tf.tile(mask, mult)"
      ],
      "execution_count": 94,
      "outputs": []
    },
    {
      "cell_type": "code",
      "metadata": {
        "id": "0NPqYDA5vRls"
      },
      "source": [
        "embed_dim=256\n",
        "latent_dim=2048\n",
        "num_heads=8"
      ],
      "execution_count": 95,
      "outputs": []
    },
    {
      "cell_type": "code",
      "metadata": {
        "id": "pA6PtgHmvcDp"
      },
      "source": [
        "encoder_inputs = tf.keras.Input(shape=(None,), dtype=\"int64\", name=\"encoder_inputs\")\n",
        "x = PositionalEmbedding(sequence_length, vocab_size, embed_dim)(encoder_inputs)\n",
        "encoder_outputs = TransformerEncoder(embed_dim, latent_dim, num_heads)(x)\n",
        "encoder = tf.keras.Model(encoder_inputs, encoder_outputs)\n",
        "\n",
        "decoder_inputs = tf.keras.Input(shape=(None,), dtype=\"int64\", name=\"decoder_inputs\")\n",
        "encoded_seq_inputs = tf.keras.Input(shape=(None, embed_dim), name=\"decoder_state_inputs\")\n",
        "x = PositionalEmbedding(sequence_length, vocab_size, embed_dim)(decoder_inputs)\n",
        "x = TransformerDecoder(embed_dim, latent_dim, num_heads)(x, encoded_seq_inputs)\n",
        "x = tf.keras.layers.Dropout(0.5)(x)\n",
        "decoder_outputs = tf.keras.layers.Dense(vocab_size, activation=\"softmax\")(x)\n",
        "decoder = tf.keras.Model([decoder_inputs, encoded_seq_inputs], decoder_outputs)\n",
        "decoder_outputs=decoder([decoder_inputs,encoder_outputs])\n",
        "transformer=tf.keras.Model([encoder_inputs,decoder_inputs],decoder_outputs,name=\"transformer\")"
      ],
      "execution_count": 96,
      "outputs": []
    },
    {
      "cell_type": "code",
      "metadata": {
        "colab": {
          "base_uri": "https://localhost:8080/"
        },
        "id": "UGnwLpmuxvf5",
        "outputId": "569aef7c-02d5-47f6-bafb-91c0ced65463"
      },
      "source": [
        "transformer.summary()"
      ],
      "execution_count": 97,
      "outputs": [
        {
          "output_type": "stream",
          "name": "stdout",
          "text": [
            "Model: \"transformer\"\n",
            "__________________________________________________________________________________________________\n",
            " Layer (type)                   Output Shape         Param #     Connected to                     \n",
            "==================================================================================================\n",
            " encoder_inputs (InputLayer)    [(None, None)]       0           []                               \n",
            "                                                                                                  \n",
            " positional_embedding_25 (Posit  (None, None, 256)   3845120     ['encoder_inputs[0][0]']         \n",
            " ionalEmbedding)                                                                                  \n",
            "                                                                                                  \n",
            " decoder_inputs (InputLayer)    [(None, None)]       0           []                               \n",
            "                                                                                                  \n",
            " transformer_encoder_12 (Transf  (None, None, 256)   3155456     ['positional_embedding_25[0][0]']\n",
            " ormerEncoder)                                                                                    \n",
            "                                                                                                  \n",
            " model_17 (Functional)          (None, None, 15000)  12959640    ['decoder_inputs[0][0]',         \n",
            "                                                                  'transformer_encoder_12[0][0]'] \n",
            "                                                                                                  \n",
            "==================================================================================================\n",
            "Total params: 19,960,216\n",
            "Trainable params: 19,960,216\n",
            "Non-trainable params: 0\n",
            "__________________________________________________________________________________________________\n"
          ]
        }
      ]
    },
    {
      "cell_type": "code",
      "metadata": {
        "id": "9ONegnhpzO1K"
      },
      "source": [
        "transformer.compile(optimizer=\"rmsprop\",loss=\"sparse_categorical_crossentropy\",metrics=[\"accuracy\"])"
      ],
      "execution_count": 98,
      "outputs": []
    },
    {
      "cell_type": "code",
      "metadata": {
        "colab": {
          "base_uri": "https://localhost:8080/"
        },
        "id": "ZXFaPj8D4bzR",
        "outputId": "00530557-d38d-49b6-e0a1-8c481c995a94"
      },
      "source": [
        "history=transformer.fit(train_ds,epochs=10,validation_data=val_ds)"
      ],
      "execution_count": 99,
      "outputs": [
        {
          "output_type": "stream",
          "name": "stdout",
          "text": [
            "Epoch 1/10\n",
            "1302/1302 [==============================] - 173s 129ms/step - loss: 1.6514 - accuracy: 0.4276 - val_loss: 1.3263 - val_accuracy: 0.5197\n",
            "Epoch 2/10\n",
            "1302/1302 [==============================] - 167s 128ms/step - loss: 1.3232 - accuracy: 0.5386 - val_loss: 1.1455 - val_accuracy: 0.5755\n",
            "Epoch 3/10\n",
            "1302/1302 [==============================] - 167s 129ms/step - loss: 1.1803 - accuracy: 0.5841 - val_loss: 1.0749 - val_accuracy: 0.6014\n",
            "Epoch 4/10\n",
            "1302/1302 [==============================] - 166s 128ms/step - loss: 1.0962 - accuracy: 0.6142 - val_loss: 1.0296 - val_accuracy: 0.6256\n",
            "Epoch 5/10\n",
            "1302/1302 [==============================] - 167s 128ms/step - loss: 1.0490 - accuracy: 0.6349 - val_loss: 1.0149 - val_accuracy: 0.6339\n",
            "Epoch 6/10\n",
            "1302/1302 [==============================] - 167s 128ms/step - loss: 1.0187 - accuracy: 0.6508 - val_loss: 1.0129 - val_accuracy: 0.6377\n",
            "Epoch 7/10\n",
            "1302/1302 [==============================] - 167s 129ms/step - loss: 0.9967 - accuracy: 0.6629 - val_loss: 0.9876 - val_accuracy: 0.6477\n",
            "Epoch 8/10\n",
            "1302/1302 [==============================] - 167s 128ms/step - loss: 0.9786 - accuracy: 0.6729 - val_loss: 0.9909 - val_accuracy: 0.6508\n",
            "Epoch 9/10\n",
            "1302/1302 [==============================] - 168s 129ms/step - loss: 0.9629 - accuracy: 0.6817 - val_loss: 0.9833 - val_accuracy: 0.6537\n",
            "Epoch 10/10\n",
            "1302/1302 [==============================] - 167s 128ms/step - loss: 0.9486 - accuracy: 0.6895 - val_loss: 0.9783 - val_accuracy: 0.6576\n"
          ]
        }
      ]
    },
    {
      "cell_type": "code",
      "metadata": {
        "colab": {
          "base_uri": "https://localhost:8080/",
          "height": 300
        },
        "id": "Rg4tmwIi4b5u",
        "outputId": "68794111-db5c-445a-964e-86ad860fc12f"
      },
      "source": [
        "plt.plot(history.history['accuracy'], label='accuracy')\n",
        "plt.plot(history.history['val_accuracy'], label = 'val_accuracy')\n",
        "plt.xlabel('Epoch')\n",
        "plt.ylabel('Accuracy')\n",
        "plt.ylim([0.5, 1])\n",
        "plt.legend(loc='lower right')"
      ],
      "execution_count": 100,
      "outputs": [
        {
          "output_type": "execute_result",
          "data": {
            "text/plain": [
              "<matplotlib.legend.Legend at 0x7f39b77e1b10>"
            ]
          },
          "metadata": {},
          "execution_count": 100
        },
        {
          "output_type": "display_data",
          "data": {
            "image/png": "[encoded data removed]",
            "text/plain": [
              "<Figure size 432x288 with 1 Axes>"
            ]
          },
          "metadata": {
            "needs_background": "light"
          }
        }
      ]
    },
    {
      "cell_type": "code",
      "metadata": {
        "colab": {
          "base_uri": "https://localhost:8080/",
          "height": 300
        },
        "id": "HC195MHv4b-2",
        "outputId": "935eb85e-d739-4a0f-f5e1-c0a38c1a0d6b"
      },
      "source": [
        "plt.plot(history.history['loss'], label='loss')\n",
        "plt.plot(history.history['val_loss'], label = 'val_loss')\n",
        "plt.xlabel('Epoch')\n",
        "plt.ylabel('Accuracy')\n",
        "plt.ylim([1.7, 0])\n",
        "plt.legend(loc='lower right')"
      ],
      "execution_count": 102,
      "outputs": [
        {
          "output_type": "execute_result",
          "data": {
            "text/plain": [
              "<matplotlib.legend.Legend at 0x7f39b77b3b50>"
            ]
          },
          "metadata": {},
          "execution_count": 102
        },
        {
          "output_type": "display_data",
          "data": {
            "image/png": "[encoded data removed]",
            "text/plain": [
              "<Figure size 432x288 with 1 Axes>"
            ]
          },
          "metadata": {
            "needs_background": "light"
          }
        }
      ]
    },
    {
      "cell_type": "code",
      "metadata": {
        "id": "EaDaE8n04cFW"
      },
      "source": [
        "spa_vocab = spa_vectorization.get_vocabulary()\n",
        "spa_index_lookup = dict(zip(range(len(spa_vocab)), spa_vocab))\n",
        "max_decoded_sentence_length = 20\n",
        "\n",
        "\n",
        "def decode_sequence(input_sentence):\n",
        "    tokenized_input_sentence = eng_vectorization([input_sentence])\n",
        "    decoded_sentence = \"[start]\"\n",
        "    for i in range(max_decoded_sentence_length):\n",
        "        tokenized_target_sentence = spa_vectorization([decoded_sentence])[:, :-1]\n",
        "        predictions = transformer([tokenized_input_sentence, tokenized_target_sentence])\n",
        "\n",
        "        sampled_token_index = np.argmax(predictions[0, i, :])\n",
        "        sampled_token = spa_index_lookup[sampled_token_index]\n",
        "        decoded_sentence += \" \" + sampled_token\n",
        "\n",
        "        if sampled_token == \"[end]\":\n",
        "            break\n",
        "    return decoded_sentence\n",
        "\n",
        "\n",
        "test_eng_texts = [pair[0] for pair in test_pairs]\n",
        "for _ in range(30):\n",
        "    input_sentence = random.choice(test_eng_texts)\n",
        "    translated = decode_sequence(input_sentence)"
      ],
      "execution_count": 103,
      "outputs": []
    },
    {
      "cell_type": "code",
      "metadata": {
        "colab": {
          "base_uri": "https://localhost:8080/"
        },
        "id": "hlYMjiC8PrIN",
        "outputId": "eaf9ce0e-6080-4dc8-d400-dc5e897f2502"
      },
      "source": [
        "input_sentence=\"She handed him the money.\"\n",
        "translated = decode_sequence(input_sentence)\n",
        "print(translated)"
      ],
      "execution_count": 106,
      "outputs": [
        {
          "output_type": "stream",
          "name": "stdout",
          "text": [
            "[start] ella le ha [UNK] el dinero [end]\n"
          ]
        }
      ]
    },
    {
      "cell_type": "code",
      "metadata": {
        "colab": {
          "base_uri": "https://localhost:8080/"
        },
        "id": "MltGTTFCQEAG",
        "outputId": "0b973527-af43-4f9b-a132-e60cf44dfdc5"
      },
      "source": [
        "input_sentence=\"I am hungry\"\n",
        "translated = decode_sequence(input_sentence)\n",
        "print(translated)"
      ],
      "execution_count": 109,
      "outputs": [
        {
          "output_type": "stream",
          "name": "stdout",
          "text": [
            "[start] estoy hambre [end]\n"
          ]
        }
      ]
    },
    {
      "cell_type": "code",
      "metadata": {
        "colab": {
          "base_uri": "https://localhost:8080/"
        },
        "id": "jPLLhQnLQxQR",
        "outputId": "d4f379a4-988d-4381-fe21-0932b922a310"
      },
      "source": [
        "input_sentence=\"My name is\"\n",
        "translated = decode_sequence(input_sentence)\n",
        "print(translated)"
      ],
      "execution_count": 111,
      "outputs": [
        {
          "output_type": "stream",
          "name": "stdout",
          "text": [
            "[start] mi nombre es [end]\n"
          ]
        }
      ]
    },
    {
      "cell_type": "code",
      "metadata": {
        "colab": {
          "base_uri": "https://localhost:8080/"
        },
        "id": "pyVXyOfnQ8EO",
        "outputId": "e7f26de4-bd88-4af2-e7fe-bddc68ee43a0"
      },
      "source": [
        "input_sentence=\"go back my friend\"\n",
        "translated = decode_sequence(input_sentence)\n",
        "print(translated)"
      ],
      "execution_count": 114,
      "outputs": [
        {
          "output_type": "stream",
          "name": "stdout",
          "text": [
            "[start] ve de mi amigo [end]\n"
          ]
        }
      ]
    },
    {
      "cell_type": "code",
      "metadata": {
        "colab": {
          "base_uri": "https://localhost:8080/"
        },
        "id": "sDkHJOBeRNHO",
        "outputId": "2f4396fb-4612-4b98-b927-df369f115c07"
      },
      "source": [
        "input_sentence=\"There is a trap.\"\n",
        "translated = decode_sequence(input_sentence)\n",
        "print(translated)"
      ],
      "execution_count": 115,
      "outputs": [
        {
          "output_type": "stream",
          "name": "stdout",
          "text": [
            "[start] hay una trampa [end]\n"
          ]
        }
      ]
    }
  ]
}